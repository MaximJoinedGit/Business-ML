{
 "cells": [
  {
   "cell_type": "code",
   "execution_count": 1,
   "metadata": {},
   "outputs": [],
   "source": [
    "import pandas as pd\n",
    "from sklearn.metrics import roc_auc_score, roc_curve\n",
    "from urllib import request, parse\n",
    "import urllib.request\n",
    "import json"
   ]
  },
  {
   "cell_type": "code",
   "execution_count": 2,
   "metadata": {},
   "outputs": [],
   "source": [
    "X_test = pd.read_csv('X_test.csv', sep=';')\n",
    "y_test = pd.read_csv('y_test.csv', sep=';')"
   ]
  },
  {
   "cell_type": "code",
   "execution_count": 3,
   "metadata": {},
   "outputs": [],
   "source": [
    "def get_prediction(input_data):\n",
    "    geography, gender, tenure, hascrcard, isactivemember, creditscore, age, balance, numofproducts, estimatedsalary = input_data#.values\n",
    "    \n",
    "    body = {\n",
    "        'Geography': str(geography),\n",
    "        'Gender': str(gender),\n",
    "        'Tenure': int(tenure),\n",
    "        'HasCrCard': int(hascrcard),\n",
    "        'IsActiveMember': int(isactivemember),\n",
    "        'CreditScore': int(creditscore),\n",
    "        'Age': int(age),\n",
    "        'Balance': 1e-10 if not float(balance) else float(balance),\n",
    "        'NumOfProducts': int(numofproducts),\n",
    "        'EstimatedSalary': float(estimatedsalary),\n",
    "    }\n",
    "\n",
    "    \n",
    "    myurl = \"http://0.0.0.0:8180/predict\"\n",
    "    req = urllib.request.Request(myurl)\n",
    "    req.add_header('Content-Type', 'application/json; charset=utf-8')\n",
    "    jsondata = json.dumps(body)\n",
    "    jsondataasbytes = jsondata.encode('utf-8')   # needs to be bytes\n",
    "    req.add_header('Content-Length', len(jsondataasbytes))\n",
    "    response = urllib.request.urlopen(req, jsondataasbytes)\n",
    "    return json.loads(response.read())['predictions']"
   ]
  },
  {
   "cell_type": "code",
   "execution_count": 4,
   "metadata": {},
   "outputs": [
    {
     "name": "stdout",
     "output_type": "stream",
     "text": [
      "CPU times: user 2.5 s, sys: 583 ms, total: 3.08 s\n",
      "Wall time: 2min 41s\n"
     ]
    }
   ],
   "source": [
    "%%time\n",
    "predictions = X_test[[\n",
    "        'Geography',\n",
    "        'Gender',\n",
    "        'Tenure',\n",
    "        'HasCrCard',\n",
    "        'IsActiveMember',\n",
    "        'CreditScore',\n",
    "        'Age',\n",
    "        'Balance',\n",
    "        'NumOfProducts',\n",
    "        'EstimatedSalary',\n",
    "]].apply(lambda x: get_prediction(x), 1)"
   ]
  },
  {
   "cell_type": "code",
   "execution_count": 5,
   "metadata": {},
   "outputs": [
    {
     "data": {
      "text/plain": [
       "0       0.030804\n",
       "1       0.037534\n",
       "2       0.064808\n",
       "3       0.216266\n",
       "4       0.094785\n",
       "          ...   \n",
       "2495    0.364613\n",
       "2496    0.941224\n",
       "2497    0.050641\n",
       "2498    0.118055\n",
       "2499    0.061494\n",
       "Length: 2500, dtype: float64"
      ]
     },
     "execution_count": 5,
     "metadata": {},
     "output_type": "execute_result"
    }
   ],
   "source": [
    "predictions"
   ]
  }
 ],
 "metadata": {
  "kernelspec": {
   "display_name": "Python 3",
   "language": "python",
   "name": "python3"
  },
  "language_info": {
   "codemirror_mode": {
    "name": "ipython",
    "version": 3
   },
   "file_extension": ".py",
   "mimetype": "text/x-python",
   "name": "python",
   "nbconvert_exporter": "python",
   "pygments_lexer": "ipython3",
   "version": "3.8.5"
  }
 },
 "nbformat": 4,
 "nbformat_minor": 4
}

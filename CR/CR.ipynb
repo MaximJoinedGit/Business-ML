{
 "cells": [
  {
   "cell_type": "markdown",
   "metadata": {},
   "source": [
    "## <center>Курсовой проект</center>"
   ]
  },
  {
   "cell_type": "code",
   "execution_count": 1,
   "metadata": {},
   "outputs": [],
   "source": [
    "import pandas as pd\n",
    "import numpy as np\n",
    "from sklearn.model_selection import train_test_split\n",
    "from sklearn.base import BaseEstimator, TransformerMixin\n",
    "from sklearn.pipeline import Pipeline, FeatureUnion\n",
    "from sklearn.preprocessing import StandardScaler\n",
    "from sklearn.ensemble import GradientBoostingClassifier\n",
    "from sklearn.metrics import precision_recall_curve\n",
    "import dill"
   ]
  },
  {
   "cell_type": "markdown",
   "metadata": {},
   "source": [
    "Загрузим датасет, сделаем разбиение на тренировочную и тестовую выборки "
   ]
  },
  {
   "cell_type": "code",
   "execution_count": 2,
   "metadata": {},
   "outputs": [],
   "source": [
    "df = pd.read_csv(\"/home/maxim/Документы/GeekBrains/4 четверть. Машинное обучение в бизнесе/Tasks/CR/churn_data.csv\")\n",
    "df.drop(columns='CustomerId', inplace=True)\n",
    "X_train, X_test, y_train, y_test = train_test_split(df, df['Exited'], random_state=42)"
   ]
  },
  {
   "cell_type": "code",
   "execution_count": 3,
   "metadata": {},
   "outputs": [],
   "source": [
    "y_test.to_csv('y_test.csv', index=False, sep=';')\n",
    "X_test.to_csv('X_test.csv', index=False, sep=';')"
   ]
  },
  {
   "cell_type": "code",
   "execution_count": 4,
   "metadata": {},
   "outputs": [],
   "source": [
    "class FeatureSelector(BaseEstimator, TransformerMixin):\n",
    "    def __init__(self, column):\n",
    "        self.column = column\n",
    "\n",
    "    def fit(self, X, y=None):\n",
    "        return self\n",
    "\n",
    "    def transform(self, X, y=None):\n",
    "        return X[self.column]\n",
    "    \n",
    "class NumberSelector(BaseEstimator, TransformerMixin):\n",
    "    \"\"\"\n",
    "    Transformer to select a single column from the data frame to perform additional transformations on\n",
    "    Use on numeric columns in the data\n",
    "    \"\"\"\n",
    "    def __init__(self, key):\n",
    "        self.key = key\n",
    "\n",
    "    def fit(self, X, y=None):\n",
    "        return self\n",
    "\n",
    "    def transform(self, X):\n",
    "        return X[[self.key]]\n",
    "    \n",
    "class OHEEncoder(BaseEstimator, TransformerMixin):\n",
    "    def __init__(self, key):\n",
    "        self.key = key\n",
    "        self.columns = []\n",
    "\n",
    "    def fit(self, X, y=None):\n",
    "        self.columns = [col for col in pd.get_dummies(X, prefix=self.key).columns]\n",
    "        return self\n",
    "\n",
    "    def transform(self, X):\n",
    "        X = pd.get_dummies(X, prefix=self.key)\n",
    "        test_columns = [col for col in X.columns]\n",
    "        for col_ in self.columns:\n",
    "            if col_ not in test_columns:\n",
    "                X[col_] = 0\n",
    "        return X[self.columns]"
   ]
  },
  {
   "cell_type": "markdown",
   "metadata": {},
   "source": [
    "Определим колонки, которые отнесем к категориальным и к численным.\n",
    "Для категориальных применим OHE, а численные стандартизируем."
   ]
  },
  {
   "cell_type": "code",
   "execution_count": 5,
   "metadata": {},
   "outputs": [],
   "source": [
    "features = [\n",
    "    'Geography', \n",
    "    'Gender', \n",
    "    'Tenure', \n",
    "    'HasCrCard', \n",
    "    'IsActiveMember', \n",
    "    'CreditScore', \n",
    "    'Age', \n",
    "    'Balance', \n",
    "    'NumOfProducts', \n",
    "    'EstimatedSalary'\n",
    "]\n",
    "\n",
    "target = 'Exited'"
   ]
  },
  {
   "cell_type": "code",
   "execution_count": 6,
   "metadata": {},
   "outputs": [],
   "source": [
    "geography = Pipeline([\n",
    "    ('selector', FeatureSelector(column='Geography')),\n",
    "    ('ohe', OHEEncoder(key='Geography')),\n",
    "])\n",
    "gender = Pipeline([\n",
    "    ('selector', FeatureSelector(column='Gender')),\n",
    "    ('ohe', OHEEncoder(key='Gender')),\n",
    "])\n",
    "tenure = Pipeline([\n",
    "    ('selector', FeatureSelector(column='Tenure')),\n",
    "    ('ohe', OHEEncoder(key='Tenure')),\n",
    "])\n",
    "hascrcard = Pipeline([\n",
    "    ('selector', FeatureSelector(column='HasCrCard')),\n",
    "    ('ohe', OHEEncoder(key='HasCrCard')),\n",
    "])\n",
    "isactivemember = Pipeline([\n",
    "    ('selector', FeatureSelector(column='IsActiveMember')),\n",
    "    ('ohe', OHEEncoder(key='IsActiveMember')),\n",
    "])\n",
    "\n",
    "creditscore = Pipeline([\n",
    "                ('selector', NumberSelector(key='CreditScore')),\n",
    "                ('stand', StandardScaler()),\n",
    "            ])\n",
    "age = Pipeline([\n",
    "                ('selector', NumberSelector(key='Age')),\n",
    "                ('stand', StandardScaler()),\n",
    "            ])\n",
    "balance = Pipeline([\n",
    "                ('selector', NumberSelector(key='Balance')),\n",
    "                ('stand', StandardScaler()),\n",
    "            ])\n",
    "numofproducts = Pipeline([\n",
    "                ('selector', NumberSelector(key='NumOfProducts')),\n",
    "                ('stand', StandardScaler()),\n",
    "            ])\n",
    "estimatedsalary = Pipeline([\n",
    "                ('selector', NumberSelector(key='EstimatedSalary')),\n",
    "                ('stand', StandardScaler()),\n",
    "            ])"
   ]
  },
  {
   "cell_type": "markdown",
   "metadata": {},
   "source": [
    "Объединим всё это в единый пайплайн"
   ]
  },
  {
   "cell_type": "code",
   "execution_count": 7,
   "metadata": {},
   "outputs": [],
   "source": [
    "feats = FeatureUnion([\n",
    "    ('Geography', geography),\n",
    "    ('Gender', gender),\n",
    "    ('Tenure', tenure),\n",
    "    ('HasCrCard', hascrcard),\n",
    "    ('IsActiveMember', isactivemember),\n",
    "    ('CreditScore', creditscore),\n",
    "    ('Age', age),\n",
    "    ('Balance', balance),\n",
    "    ('NumOfProducts', numofproducts),\n",
    "    ('EstimatedSalary', estimatedsalary),\n",
    "])\n",
    "\n",
    "# feature_processing = Pipeline([('feats', feats)])"
   ]
  },
  {
   "cell_type": "markdown",
   "metadata": {},
   "source": [
    "Обучим модель с градиентным бустингом"
   ]
  },
  {
   "cell_type": "code",
   "execution_count": 8,
   "metadata": {},
   "outputs": [],
   "source": [
    "model = Pipeline([\n",
    "    ('features',feats),\n",
    "    ('classifier', GradientBoostingClassifier(random_state = 42)),\n",
    "])"
   ]
  },
  {
   "cell_type": "code",
   "execution_count": 9,
   "metadata": {},
   "outputs": [
    {
     "data": {
      "text/plain": [
       "Pipeline(steps=[('features',\n",
       "                 FeatureUnion(transformer_list=[('Geography',\n",
       "                                                 Pipeline(steps=[('selector',\n",
       "                                                                  FeatureSelector(column='Geography')),\n",
       "                                                                 ('ohe',\n",
       "                                                                  OHEEncoder(key='Geography'))])),\n",
       "                                                ('Gender',\n",
       "                                                 Pipeline(steps=[('selector',\n",
       "                                                                  FeatureSelector(column='Gender')),\n",
       "                                                                 ('ohe',\n",
       "                                                                  OHEEncoder(key='Gender'))])),\n",
       "                                                ('Tenure',\n",
       "                                                 Pipeline(steps=[('selector',\n",
       "                                                                  FeatureSelector(column='Tenu...\n",
       "                                                                  NumberSelector(key='Balance')),\n",
       "                                                                 ('stand',\n",
       "                                                                  StandardScaler())])),\n",
       "                                                ('NumOfProducts',\n",
       "                                                 Pipeline(steps=[('selector',\n",
       "                                                                  NumberSelector(key='NumOfProducts')),\n",
       "                                                                 ('stand',\n",
       "                                                                  StandardScaler())])),\n",
       "                                                ('EstimatedSalary',\n",
       "                                                 Pipeline(steps=[('selector',\n",
       "                                                                  NumberSelector(key='EstimatedSalary')),\n",
       "                                                                 ('stand',\n",
       "                                                                  StandardScaler())]))])),\n",
       "                ('classifier', GradientBoostingClassifier(random_state=42))])"
      ]
     },
     "execution_count": 9,
     "metadata": {},
     "output_type": "execute_result"
    }
   ],
   "source": [
    "model.fit(X_train, y_train)"
   ]
  },
  {
   "cell_type": "code",
   "execution_count": 10,
   "metadata": {},
   "outputs": [],
   "source": [
    "preds_gb = model.predict_proba(X_test)[:, 1]"
   ]
  },
  {
   "cell_type": "code",
   "execution_count": 11,
   "metadata": {},
   "outputs": [
    {
     "name": "stdout",
     "output_type": "stream",
     "text": [
      "Best Threshold=0.271906, F-Score=0.642, Precision=0.602, Recall=0.686\n"
     ]
    }
   ],
   "source": [
    "precision_gb, recall_gb, thresholds_gb = precision_recall_curve(y_test, preds_gb)\n",
    "\n",
    "fscore_gb = (2 * precision_gb * recall_gb) / (precision_gb + recall_gb)\n",
    "\n",
    "ix_gb = np.argmax(fscore_gb)\n",
    "print('Best Threshold=%f, F-Score=%.3f, Precision=%.3f, Recall=%.3f' % (thresholds_gb[ix_gb], \n",
    "                                                                        fscore_gb[ix_gb],\n",
    "                                                                        precision_gb[ix_gb],\n",
    "                                                                        recall_gb[ix_gb]))"
   ]
  },
  {
   "cell_type": "code",
   "execution_count": 12,
   "metadata": {},
   "outputs": [
    {
     "data": {
      "text/html": [
       "<div>\n",
       "<style scoped>\n",
       "    .dataframe tbody tr th:only-of-type {\n",
       "        vertical-align: middle;\n",
       "    }\n",
       "\n",
       "    .dataframe tbody tr th {\n",
       "        vertical-align: top;\n",
       "    }\n",
       "\n",
       "    .dataframe thead th {\n",
       "        text-align: right;\n",
       "    }\n",
       "</style>\n",
       "<table border=\"1\" class=\"dataframe\">\n",
       "  <thead>\n",
       "    <tr style=\"text-align: right;\">\n",
       "      <th></th>\n",
       "      <th>Gradient Boosting Model</th>\n",
       "    </tr>\n",
       "  </thead>\n",
       "  <tbody>\n",
       "    <tr>\n",
       "      <th>Thresholds</th>\n",
       "      <td>0.271906</td>\n",
       "    </tr>\n",
       "    <tr>\n",
       "      <th>FScore</th>\n",
       "      <td>0.641580</td>\n",
       "    </tr>\n",
       "    <tr>\n",
       "      <th>Precision</th>\n",
       "      <td>0.602473</td>\n",
       "    </tr>\n",
       "    <tr>\n",
       "      <th>Recall</th>\n",
       "      <td>0.686117</td>\n",
       "    </tr>\n",
       "  </tbody>\n",
       "</table>\n",
       "</div>"
      ],
      "text/plain": [
       "            Gradient Boosting Model\n",
       "Thresholds                 0.271906\n",
       "FScore                     0.641580\n",
       "Precision                  0.602473\n",
       "Recall                     0.686117"
      ]
     },
     "execution_count": 12,
     "metadata": {},
     "output_type": "execute_result"
    }
   ],
   "source": [
    "result_table = pd.DataFrame({\n",
    "    'Gradient Boosting Model': pd.Series({\n",
    "        'Thresholds': thresholds_gb[ix_gb], \n",
    "        'FScore': fscore_gb[ix_gb], \n",
    "        'Precision': precision_gb[ix_gb], \n",
    "        'Recall': recall_gb[ix_gb]\n",
    "    }),\n",
    "})\n",
    "\n",
    "result_table"
   ]
  },
  {
   "cell_type": "code",
   "execution_count": 13,
   "metadata": {},
   "outputs": [],
   "source": [
    "with open(\"app/gradboost_pipeline.dill\", \"wb\") as f:\n",
    "    dill.dump(model, f)"
   ]
  }
 ],
 "metadata": {
  "kernelspec": {
   "display_name": "Python 3",
   "language": "python",
   "name": "python3"
  },
  "language_info": {
   "codemirror_mode": {
    "name": "ipython",
    "version": 3
   },
   "file_extension": ".py",
   "mimetype": "text/x-python",
   "name": "python",
   "nbconvert_exporter": "python",
   "pygments_lexer": "ipython3",
   "version": "3.8.5"
  }
 },
 "nbformat": 4,
 "nbformat_minor": 4
}
